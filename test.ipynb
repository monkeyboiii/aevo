{
 "cells": [
  {
   "cell_type": "code",
   "execution_count": 1,
   "metadata": {},
   "outputs": [
    {
     "name": "stdout",
     "output_type": "stream",
     "text": [
      "Requirement already satisfied: binance-connector in /opt/homebrew/Caskroom/miniconda/base/envs/aevo/lib/python3.12/site-packages (3.5.1)\n",
      "Requirement already satisfied: pandas in /opt/homebrew/Caskroom/miniconda/base/envs/aevo/lib/python3.12/site-packages (2.2.1)\n",
      "Requirement already satisfied: jproperties in /opt/homebrew/Caskroom/miniconda/base/envs/aevo/lib/python3.12/site-packages (2.1.1)\n",
      "Requirement already satisfied: requests>=2.31.0 in /opt/homebrew/Caskroom/miniconda/base/envs/aevo/lib/python3.12/site-packages (from binance-connector) (2.31.0)\n",
      "Requirement already satisfied: websocket-client>=1.6.3 in /opt/homebrew/Caskroom/miniconda/base/envs/aevo/lib/python3.12/site-packages (from binance-connector) (1.7.0)\n",
      "Requirement already satisfied: pycryptodome>=3.15.0 in /opt/homebrew/Caskroom/miniconda/base/envs/aevo/lib/python3.12/site-packages (from binance-connector) (3.19.0)\n",
      "Requirement already satisfied: numpy<2,>=1.26.0 in /opt/homebrew/Caskroom/miniconda/base/envs/aevo/lib/python3.12/site-packages (from pandas) (1.26.4)\n",
      "Requirement already satisfied: python-dateutil>=2.8.2 in /opt/homebrew/Caskroom/miniconda/base/envs/aevo/lib/python3.12/site-packages (from pandas) (2.8.2)\n",
      "Requirement already satisfied: pytz>=2020.1 in /opt/homebrew/Caskroom/miniconda/base/envs/aevo/lib/python3.12/site-packages (from pandas) (2024.1)\n",
      "Requirement already satisfied: tzdata>=2022.7 in /opt/homebrew/Caskroom/miniconda/base/envs/aevo/lib/python3.12/site-packages (from pandas) (2024.1)\n",
      "Requirement already satisfied: six~=1.13 in /opt/homebrew/Caskroom/miniconda/base/envs/aevo/lib/python3.12/site-packages (from jproperties) (1.16.0)\n",
      "Requirement already satisfied: charset-normalizer<4,>=2 in /opt/homebrew/Caskroom/miniconda/base/envs/aevo/lib/python3.12/site-packages (from requests>=2.31.0->binance-connector) (3.3.2)\n",
      "Requirement already satisfied: idna<4,>=2.5 in /opt/homebrew/Caskroom/miniconda/base/envs/aevo/lib/python3.12/site-packages (from requests>=2.31.0->binance-connector) (3.6)\n",
      "Requirement already satisfied: urllib3<3,>=1.21.1 in /opt/homebrew/Caskroom/miniconda/base/envs/aevo/lib/python3.12/site-packages (from requests>=2.31.0->binance-connector) (2.1.0)\n",
      "Requirement already satisfied: certifi>=2017.4.17 in /opt/homebrew/Caskroom/miniconda/base/envs/aevo/lib/python3.12/site-packages (from requests>=2.31.0->binance-connector) (2023.11.17)\n",
      "Note: you may need to restart the kernel to use updated packages.\n"
     ]
    }
   ],
   "source": [
    "%pip install binance-connector pandas jproperties"
   ]
  },
  {
   "cell_type": "code",
   "execution_count": 2,
   "metadata": {},
   "outputs": [],
   "source": [
    "from jproperties import Properties\n",
    "from eth_account import Account\n",
    "\n",
    "configs = Properties()\n",
    "\n",
    "with open('accounts/transient.properties', 'rb') as f:\n",
    "    configs.load(f)\n",
    "\n",
    "acc = Account.from_key(configs.get('PRIVATE_KEY').data)"
   ]
  },
  {
   "cell_type": "code",
   "execution_count": 3,
   "metadata": {},
   "outputs": [],
   "source": [
    "from aevo import AevoClient\n",
    "\n",
    "aevo = AevoClient(\n",
    "    signing_key=configs.get('SIGNING_KEY').data,\n",
    "    wallet_address=acc.address,\n",
    "    api_key=configs.get('API_KEY').data,\n",
    "    api_secret=configs.get('API_SECRET').data,\n",
    "    env=\"testnet\",\n",
    ")"
   ]
  },
  {
   "cell_type": "code",
   "execution_count": 6,
   "metadata": {},
   "outputs": [
    {
     "name": "stdout",
     "output_type": "stream",
     "text": [
      "{'serverTime': 1709104417154}\n"
     ]
    }
   ],
   "source": [
    "from binance.spot import Spot\n",
    "\n",
    "# NOTE: use proxy outside US\n",
    "client = Spot()"
   ]
  },
  {
   "cell_type": "code",
   "execution_count": null,
   "metadata": {},
   "outputs": [],
   "source": [
    "import pandas as pd\n",
    "\n",
    "def getData(symbol, data):\n",
    "    frame = pd.DataFrame(client.klines())\n",
    "    frame = frame.iloc[:,:6]"
   ]
  },
  {
   "cell_type": "code",
   "execution_count": null,
   "metadata": {},
   "outputs": [],
   "source": []
  }
 ],
 "metadata": {
  "kernelspec": {
   "display_name": "aevo",
   "language": "python",
   "name": "python3"
  },
  "language_info": {
   "codemirror_mode": {
    "name": "ipython",
    "version": 3
   },
   "file_extension": ".py",
   "mimetype": "text/x-python",
   "name": "python",
   "nbconvert_exporter": "python",
   "pygments_lexer": "ipython3",
   "version": "3.12.1"
  }
 },
 "nbformat": 4,
 "nbformat_minor": 2
}
