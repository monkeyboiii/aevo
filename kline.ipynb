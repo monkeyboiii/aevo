{
 "cells": [
  {
   "cell_type": "code",
   "execution_count": 21,
   "metadata": {},
   "outputs": [
    {
     "name": "stdout",
     "output_type": "stream",
     "text": [
      "Requirement already satisfied: binance-connector in /opt/miniconda3/envs/aevo/lib/python3.12/site-packages (3.5.1)\n",
      "Requirement already satisfied: redis in /opt/miniconda3/envs/aevo/lib/python3.12/site-packages (5.0.2)\n",
      "Requirement already satisfied: requests>=2.31.0 in /opt/miniconda3/envs/aevo/lib/python3.12/site-packages (from binance-connector) (2.31.0)\n",
      "Requirement already satisfied: websocket-client>=1.6.3 in /opt/miniconda3/envs/aevo/lib/python3.12/site-packages (from binance-connector) (1.7.0)\n",
      "Requirement already satisfied: pycryptodome>=3.15.0 in /opt/miniconda3/envs/aevo/lib/python3.12/site-packages (from binance-connector) (3.19.0)\n",
      "Requirement already satisfied: async-timeout>=4.0.3 in /opt/miniconda3/envs/aevo/lib/python3.12/site-packages (from redis) (4.0.3)\n",
      "Requirement already satisfied: charset-normalizer<4,>=2 in /opt/miniconda3/envs/aevo/lib/python3.12/site-packages (from requests>=2.31.0->binance-connector) (3.3.2)\n",
      "Requirement already satisfied: idna<4,>=2.5 in /opt/miniconda3/envs/aevo/lib/python3.12/site-packages (from requests>=2.31.0->binance-connector) (3.6)\n",
      "Requirement already satisfied: urllib3<3,>=1.21.1 in /opt/miniconda3/envs/aevo/lib/python3.12/site-packages (from requests>=2.31.0->binance-connector) (2.1.0)\n",
      "Requirement already satisfied: certifi>=2017.4.17 in /opt/miniconda3/envs/aevo/lib/python3.12/site-packages (from requests>=2.31.0->binance-connector) (2023.11.17)\n",
      "Note: you may need to restart the kernel to use updated packages.\n"
     ]
    }
   ],
   "source": [
    "%pip install binance-connector redis"
   ]
  },
  {
   "cell_type": "code",
   "execution_count": 22,
   "metadata": {},
   "outputs": [],
   "source": [
    "from binance.spot import Spot\n",
    "import redis\n",
    "\n",
    "client = Spot()\n",
    "r = redis.Redis(host='localhost', port=6379, db=0)"
   ]
  },
  {
   "cell_type": "code",
   "execution_count": 23,
   "metadata": {},
   "outputs": [
    {
     "data": {
      "text/plain": [
       "1609459200.0"
      ]
     },
     "execution_count": 23,
     "metadata": {},
     "output_type": "execute_result"
    }
   ],
   "source": [
    "from datetime import datetime, timezone, timedelta\n",
    "\n",
    "BASE_TIME = datetime(2021, 1, 1, tzinfo=timezone.utc)\n",
    "BASE_TIME.timestamp()"
   ]
  },
  {
   "cell_type": "code",
   "execution_count": 24,
   "metadata": {},
   "outputs": [],
   "source": [
    "STOP_TIME = BASE_TIME + timedelta(days=1)"
   ]
  },
  {
   "cell_type": "code",
   "execution_count": 25,
   "metadata": {},
   "outputs": [
    {
     "data": {
      "text/plain": [
       "[[1609459200000,\n",
       "  '28923.63000000',\n",
       "  '29031.34000000',\n",
       "  '28690.17000000',\n",
       "  '28995.13000000',\n",
       "  '2311.81144500',\n",
       "  1609462799999,\n",
       "  '66768830.34010008',\n",
       "  58389,\n",
       "  '1215.35923800',\n",
       "  '35103542.78288276',\n",
       "  '0'],\n",
       " [1609462800000,\n",
       "  '28995.13000000',\n",
       "  '29470.00000000',\n",
       "  '28960.35000000',\n",
       "  '29409.99000000',\n",
       "  '5403.06847100',\n",
       "  1609466399999,\n",
       "  '158357816.81805722',\n",
       "  103896,\n",
       "  '3160.04170100',\n",
       "  '92613991.93555293',\n",
       "  '0'],\n",
       " [1609466400000,\n",
       "  '29410.00000000',\n",
       "  '29465.26000000',\n",
       "  '29120.03000000',\n",
       "  '29194.65000000',\n",
       "  '2384.23156000',\n",
       "  1609469999999,\n",
       "  '69842653.67342030',\n",
       "  57646,\n",
       "  '1203.43350600',\n",
       "  '35252749.90832606',\n",
       "  '0'],\n",
       " [1609470000000,\n",
       "  '29195.25000000',\n",
       "  '29367.00000000',\n",
       "  '29150.02000000',\n",
       "  '29278.40000000',\n",
       "  '1461.34507700',\n",
       "  1609473599999,\n",
       "  '42760776.72551646',\n",
       "  42510,\n",
       "  '775.91566600',\n",
       "  '22705547.98307977',\n",
       "  '0'],\n",
       " [1609473600000,\n",
       "  '29278.41000000',\n",
       "  '29395.00000000',\n",
       "  '29029.40000000',\n",
       "  '29220.31000000',\n",
       "  '2038.04680300',\n",
       "  1609477199999,\n",
       "  '59614637.30352874',\n",
       "  55414,\n",
       "  '1003.34283400',\n",
       "  '29346381.88020654',\n",
       "  '0'],\n",
       " [1609477200000,\n",
       "  '29220.31000000',\n",
       "  '29235.28000000',\n",
       "  '29084.11000000',\n",
       "  '29187.01000000',\n",
       "  '1469.95626200',\n",
       "  1609480799999,\n",
       "  '42864538.70435811',\n",
       "  41800,\n",
       "  '679.84674200',\n",
       "  '19827190.29247262',\n",
       "  '0'],\n",
       " [1609480800000,\n",
       "  '29187.01000000',\n",
       "  '29270.00000000',\n",
       "  '29077.32000000',\n",
       "  '29174.35000000',\n",
       "  '1420.72629100',\n",
       "  1609484399999,\n",
       "  '41446013.01819005',\n",
       "  46400,\n",
       "  '699.14267600',\n",
       "  '20398322.75992173',\n",
       "  '0'],\n",
       " [1609484400000,\n",
       "  '29174.35000000',\n",
       "  '29191.98000000',\n",
       "  '28806.54000000',\n",
       "  '29092.83000000',\n",
       "  '2380.18091800',\n",
       "  1609487999999,\n",
       "  '69034619.09489940',\n",
       "  53158,\n",
       "  '1054.72099100',\n",
       "  '30598457.40248306',\n",
       "  '0'],\n",
       " [1609488000000,\n",
       "  '29092.84000000',\n",
       "  '29178.03000000',\n",
       "  '28872.24000000',\n",
       "  '29000.01000000',\n",
       "  '2008.16573900',\n",
       "  1609491599999,\n",
       "  '58274190.69862189',\n",
       "  55012,\n",
       "  '1022.06617000',\n",
       "  '29662447.72598589',\n",
       "  '0'],\n",
       " [1609491600000,\n",
       "  '29000.01000000',\n",
       "  '29307.73000000',\n",
       "  '28970.00000000',\n",
       "  '29202.21000000',\n",
       "  '2022.05602200',\n",
       "  1609495199999,\n",
       "  '59006512.26098600',\n",
       "  43674,\n",
       "  '1208.47757800',\n",
       "  '35272717.35224266',\n",
       "  '0']]"
      ]
     },
     "execution_count": 25,
     "metadata": {},
     "output_type": "execute_result"
    }
   ],
   "source": [
    "client.klines('BTCUSDT', '1h', limit=10, startTime=int(BASE_TIME.timestamp() * 1000))"
   ]
  },
  {
   "cell_type": "code",
   "execution_count": null,
   "metadata": {},
   "outputs": [],
   "source": [
    "from time import sleep\n",
    "\n",
    "increment = timedelta(minutes=1)\n",
    "pointer = BASE_TIME\n",
    "while pointer + increment < STOP_TIME:\n",
    "    client."
   ]
  }
 ],
 "metadata": {
  "kernelspec": {
   "display_name": "aevo",
   "language": "python",
   "name": "python3"
  },
  "language_info": {
   "codemirror_mode": {
    "name": "ipython",
    "version": 3
   },
   "file_extension": ".py",
   "mimetype": "text/x-python",
   "name": "python",
   "nbconvert_exporter": "python",
   "pygments_lexer": "ipython3",
   "version": "3.12.1"
  }
 },
 "nbformat": 4,
 "nbformat_minor": 2
}
